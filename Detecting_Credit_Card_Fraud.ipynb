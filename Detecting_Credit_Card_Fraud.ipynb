{
  "nbformat": 4,
  "nbformat_minor": 0,
  "metadata": {
    "colab": {
      "provenance": [],
      "authorship_tag": "ABX9TyNPqSDft+G1UxOcMW9ySAfi",
      "include_colab_link": true
    },
    "kernelspec": {
      "name": "python3",
      "display_name": "Python 3"
    },
    "language_info": {
      "name": "python"
    },
    "accelerator": "GPU",
    "gpuClass": "standard"
  },
  "cells": [
    {
      "cell_type": "markdown",
      "metadata": {
        "id": "view-in-github",
        "colab_type": "text"
      },
      "source": [
        "<a href=\"https://colab.research.google.com/github/dustinober1/Detecting-Credit-Card-Fraud/blob/main/Detecting_Credit_Card_Fraud.ipynb\" target=\"_parent\"><img src=\"https://colab.research.google.com/assets/colab-badge.svg\" alt=\"Open In Colab\"/></a>"
      ]
    },
    {
      "cell_type": "markdown",
      "source": [
        "# Detecting Credit Card Fraud"
      ],
      "metadata": {
        "id": "D6leXCtaPoa5"
      }
    },
    {
      "cell_type": "code",
      "source": [
        "import pandas as pd\n",
        "\n",
        "df = pd.read_csv('creditcard.csv')\n",
        "df.head()"
      ],
      "metadata": {
        "colab": {
          "base_uri": "https://localhost:8080/",
          "height": 300
        },
        "id": "AEOeM4-KHVMi",
        "outputId": "ee7faff0-4fbb-4344-c89a-cb42fdcf2f8f"
      },
      "execution_count": 2,
      "outputs": [
        {
          "output_type": "execute_result",
          "data": {
            "text/plain": [
              "   Time        V1        V2        V3        V4        V5        V6        V7  \\\n",
              "0   0.0 -1.359807 -0.072781  2.536347  1.378155 -0.338321  0.462388  0.239599   \n",
              "1   0.0  1.191857  0.266151  0.166480  0.448154  0.060018 -0.082361 -0.078803   \n",
              "2   1.0 -1.358354 -1.340163  1.773209  0.379780 -0.503198  1.800499  0.791461   \n",
              "3   1.0 -0.966272 -0.185226  1.792993 -0.863291 -0.010309  1.247203  0.237609   \n",
              "4   2.0 -1.158233  0.877737  1.548718  0.403034 -0.407193  0.095921  0.592941   \n",
              "\n",
              "         V8        V9  ...       V21       V22       V23       V24       V25  \\\n",
              "0  0.098698  0.363787  ... -0.018307  0.277838 -0.110474  0.066928  0.128539   \n",
              "1  0.085102 -0.255425  ... -0.225775 -0.638672  0.101288 -0.339846  0.167170   \n",
              "2  0.247676 -1.514654  ...  0.247998  0.771679  0.909412 -0.689281 -0.327642   \n",
              "3  0.377436 -1.387024  ... -0.108300  0.005274 -0.190321 -1.175575  0.647376   \n",
              "4 -0.270533  0.817739  ... -0.009431  0.798278 -0.137458  0.141267 -0.206010   \n",
              "\n",
              "        V26       V27       V28  Amount  Class  \n",
              "0 -0.189115  0.133558 -0.021053  149.62      0  \n",
              "1  0.125895 -0.008983  0.014724    2.69      0  \n",
              "2 -0.139097 -0.055353 -0.059752  378.66      0  \n",
              "3 -0.221929  0.062723  0.061458  123.50      0  \n",
              "4  0.502292  0.219422  0.215153   69.99      0  \n",
              "\n",
              "[5 rows x 31 columns]"
            ],
            "text/html": [
              "\n",
              "  <div id=\"df-e324f685-1cfc-4d6a-b331-9738980d5e6a\">\n",
              "    <div class=\"colab-df-container\">\n",
              "      <div>\n",
              "<style scoped>\n",
              "    .dataframe tbody tr th:only-of-type {\n",
              "        vertical-align: middle;\n",
              "    }\n",
              "\n",
              "    .dataframe tbody tr th {\n",
              "        vertical-align: top;\n",
              "    }\n",
              "\n",
              "    .dataframe thead th {\n",
              "        text-align: right;\n",
              "    }\n",
              "</style>\n",
              "<table border=\"1\" class=\"dataframe\">\n",
              "  <thead>\n",
              "    <tr style=\"text-align: right;\">\n",
              "      <th></th>\n",
              "      <th>Time</th>\n",
              "      <th>V1</th>\n",
              "      <th>V2</th>\n",
              "      <th>V3</th>\n",
              "      <th>V4</th>\n",
              "      <th>V5</th>\n",
              "      <th>V6</th>\n",
              "      <th>V7</th>\n",
              "      <th>V8</th>\n",
              "      <th>V9</th>\n",
              "      <th>...</th>\n",
              "      <th>V21</th>\n",
              "      <th>V22</th>\n",
              "      <th>V23</th>\n",
              "      <th>V24</th>\n",
              "      <th>V25</th>\n",
              "      <th>V26</th>\n",
              "      <th>V27</th>\n",
              "      <th>V28</th>\n",
              "      <th>Amount</th>\n",
              "      <th>Class</th>\n",
              "    </tr>\n",
              "  </thead>\n",
              "  <tbody>\n",
              "    <tr>\n",
              "      <th>0</th>\n",
              "      <td>0.0</td>\n",
              "      <td>-1.359807</td>\n",
              "      <td>-0.072781</td>\n",
              "      <td>2.536347</td>\n",
              "      <td>1.378155</td>\n",
              "      <td>-0.338321</td>\n",
              "      <td>0.462388</td>\n",
              "      <td>0.239599</td>\n",
              "      <td>0.098698</td>\n",
              "      <td>0.363787</td>\n",
              "      <td>...</td>\n",
              "      <td>-0.018307</td>\n",
              "      <td>0.277838</td>\n",
              "      <td>-0.110474</td>\n",
              "      <td>0.066928</td>\n",
              "      <td>0.128539</td>\n",
              "      <td>-0.189115</td>\n",
              "      <td>0.133558</td>\n",
              "      <td>-0.021053</td>\n",
              "      <td>149.62</td>\n",
              "      <td>0</td>\n",
              "    </tr>\n",
              "    <tr>\n",
              "      <th>1</th>\n",
              "      <td>0.0</td>\n",
              "      <td>1.191857</td>\n",
              "      <td>0.266151</td>\n",
              "      <td>0.166480</td>\n",
              "      <td>0.448154</td>\n",
              "      <td>0.060018</td>\n",
              "      <td>-0.082361</td>\n",
              "      <td>-0.078803</td>\n",
              "      <td>0.085102</td>\n",
              "      <td>-0.255425</td>\n",
              "      <td>...</td>\n",
              "      <td>-0.225775</td>\n",
              "      <td>-0.638672</td>\n",
              "      <td>0.101288</td>\n",
              "      <td>-0.339846</td>\n",
              "      <td>0.167170</td>\n",
              "      <td>0.125895</td>\n",
              "      <td>-0.008983</td>\n",
              "      <td>0.014724</td>\n",
              "      <td>2.69</td>\n",
              "      <td>0</td>\n",
              "    </tr>\n",
              "    <tr>\n",
              "      <th>2</th>\n",
              "      <td>1.0</td>\n",
              "      <td>-1.358354</td>\n",
              "      <td>-1.340163</td>\n",
              "      <td>1.773209</td>\n",
              "      <td>0.379780</td>\n",
              "      <td>-0.503198</td>\n",
              "      <td>1.800499</td>\n",
              "      <td>0.791461</td>\n",
              "      <td>0.247676</td>\n",
              "      <td>-1.514654</td>\n",
              "      <td>...</td>\n",
              "      <td>0.247998</td>\n",
              "      <td>0.771679</td>\n",
              "      <td>0.909412</td>\n",
              "      <td>-0.689281</td>\n",
              "      <td>-0.327642</td>\n",
              "      <td>-0.139097</td>\n",
              "      <td>-0.055353</td>\n",
              "      <td>-0.059752</td>\n",
              "      <td>378.66</td>\n",
              "      <td>0</td>\n",
              "    </tr>\n",
              "    <tr>\n",
              "      <th>3</th>\n",
              "      <td>1.0</td>\n",
              "      <td>-0.966272</td>\n",
              "      <td>-0.185226</td>\n",
              "      <td>1.792993</td>\n",
              "      <td>-0.863291</td>\n",
              "      <td>-0.010309</td>\n",
              "      <td>1.247203</td>\n",
              "      <td>0.237609</td>\n",
              "      <td>0.377436</td>\n",
              "      <td>-1.387024</td>\n",
              "      <td>...</td>\n",
              "      <td>-0.108300</td>\n",
              "      <td>0.005274</td>\n",
              "      <td>-0.190321</td>\n",
              "      <td>-1.175575</td>\n",
              "      <td>0.647376</td>\n",
              "      <td>-0.221929</td>\n",
              "      <td>0.062723</td>\n",
              "      <td>0.061458</td>\n",
              "      <td>123.50</td>\n",
              "      <td>0</td>\n",
              "    </tr>\n",
              "    <tr>\n",
              "      <th>4</th>\n",
              "      <td>2.0</td>\n",
              "      <td>-1.158233</td>\n",
              "      <td>0.877737</td>\n",
              "      <td>1.548718</td>\n",
              "      <td>0.403034</td>\n",
              "      <td>-0.407193</td>\n",
              "      <td>0.095921</td>\n",
              "      <td>0.592941</td>\n",
              "      <td>-0.270533</td>\n",
              "      <td>0.817739</td>\n",
              "      <td>...</td>\n",
              "      <td>-0.009431</td>\n",
              "      <td>0.798278</td>\n",
              "      <td>-0.137458</td>\n",
              "      <td>0.141267</td>\n",
              "      <td>-0.206010</td>\n",
              "      <td>0.502292</td>\n",
              "      <td>0.219422</td>\n",
              "      <td>0.215153</td>\n",
              "      <td>69.99</td>\n",
              "      <td>0</td>\n",
              "    </tr>\n",
              "  </tbody>\n",
              "</table>\n",
              "<p>5 rows × 31 columns</p>\n",
              "</div>\n",
              "      <button class=\"colab-df-convert\" onclick=\"convertToInteractive('df-e324f685-1cfc-4d6a-b331-9738980d5e6a')\"\n",
              "              title=\"Convert this dataframe to an interactive table.\"\n",
              "              style=\"display:none;\">\n",
              "        \n",
              "  <svg xmlns=\"http://www.w3.org/2000/svg\" height=\"24px\"viewBox=\"0 0 24 24\"\n",
              "       width=\"24px\">\n",
              "    <path d=\"M0 0h24v24H0V0z\" fill=\"none\"/>\n",
              "    <path d=\"M18.56 5.44l.94 2.06.94-2.06 2.06-.94-2.06-.94-.94-2.06-.94 2.06-2.06.94zm-11 1L8.5 8.5l.94-2.06 2.06-.94-2.06-.94L8.5 2.5l-.94 2.06-2.06.94zm10 10l.94 2.06.94-2.06 2.06-.94-2.06-.94-.94-2.06-.94 2.06-2.06.94z\"/><path d=\"M17.41 7.96l-1.37-1.37c-.4-.4-.92-.59-1.43-.59-.52 0-1.04.2-1.43.59L10.3 9.45l-7.72 7.72c-.78.78-.78 2.05 0 2.83L4 21.41c.39.39.9.59 1.41.59.51 0 1.02-.2 1.41-.59l7.78-7.78 2.81-2.81c.8-.78.8-2.07 0-2.86zM5.41 20L4 18.59l7.72-7.72 1.47 1.35L5.41 20z\"/>\n",
              "  </svg>\n",
              "      </button>\n",
              "      \n",
              "  <style>\n",
              "    .colab-df-container {\n",
              "      display:flex;\n",
              "      flex-wrap:wrap;\n",
              "      gap: 12px;\n",
              "    }\n",
              "\n",
              "    .colab-df-convert {\n",
              "      background-color: #E8F0FE;\n",
              "      border: none;\n",
              "      border-radius: 50%;\n",
              "      cursor: pointer;\n",
              "      display: none;\n",
              "      fill: #1967D2;\n",
              "      height: 32px;\n",
              "      padding: 0 0 0 0;\n",
              "      width: 32px;\n",
              "    }\n",
              "\n",
              "    .colab-df-convert:hover {\n",
              "      background-color: #E2EBFA;\n",
              "      box-shadow: 0px 1px 2px rgba(60, 64, 67, 0.3), 0px 1px 3px 1px rgba(60, 64, 67, 0.15);\n",
              "      fill: #174EA6;\n",
              "    }\n",
              "\n",
              "    [theme=dark] .colab-df-convert {\n",
              "      background-color: #3B4455;\n",
              "      fill: #D2E3FC;\n",
              "    }\n",
              "\n",
              "    [theme=dark] .colab-df-convert:hover {\n",
              "      background-color: #434B5C;\n",
              "      box-shadow: 0px 1px 3px 1px rgba(0, 0, 0, 0.15);\n",
              "      filter: drop-shadow(0px 1px 2px rgba(0, 0, 0, 0.3));\n",
              "      fill: #FFFFFF;\n",
              "    }\n",
              "  </style>\n",
              "\n",
              "      <script>\n",
              "        const buttonEl =\n",
              "          document.querySelector('#df-e324f685-1cfc-4d6a-b331-9738980d5e6a button.colab-df-convert');\n",
              "        buttonEl.style.display =\n",
              "          google.colab.kernel.accessAllowed ? 'block' : 'none';\n",
              "\n",
              "        async function convertToInteractive(key) {\n",
              "          const element = document.querySelector('#df-e324f685-1cfc-4d6a-b331-9738980d5e6a');\n",
              "          const dataTable =\n",
              "            await google.colab.kernel.invokeFunction('convertToInteractive',\n",
              "                                                     [key], {});\n",
              "          if (!dataTable) return;\n",
              "\n",
              "          const docLinkHtml = 'Like what you see? Visit the ' +\n",
              "            '<a target=\"_blank\" href=https://colab.research.google.com/notebooks/data_table.ipynb>data table notebook</a>'\n",
              "            + ' to learn more about interactive tables.';\n",
              "          element.innerHTML = '';\n",
              "          dataTable['output_type'] = 'display_data';\n",
              "          await google.colab.output.renderOutput(dataTable, element);\n",
              "          const docLink = document.createElement('div');\n",
              "          docLink.innerHTML = docLinkHtml;\n",
              "          element.appendChild(docLink);\n",
              "        }\n",
              "      </script>\n",
              "    </div>\n",
              "  </div>\n",
              "  "
            ]
          },
          "metadata": {},
          "execution_count": 2
        }
      ]
    },
    {
      "cell_type": "markdown",
      "source": [
        "These lines of code will print True if there are any NaN values, if not all the values are finite, or if any of the values are too large for float64."
      ],
      "metadata": {
        "id": "ZGjQr6lhQ82q"
      }
    },
    {
      "cell_type": "code",
      "source": [
        "import numpy as np\n",
        "print(np.any(np.isnan(df)))\n",
        "print(np.all(np.isfinite(df)))\n",
        "print(np.all(np.abs(df) < np.finfo(np.float64).max))"
      ],
      "metadata": {
        "colab": {
          "base_uri": "https://localhost:8080/"
        },
        "id": "y7Hw6jYqQoVx",
        "outputId": "9762fae9-e858-4490-9462-1e8d22a04b62"
      },
      "execution_count": 5,
      "outputs": [
        {
          "output_type": "stream",
          "name": "stdout",
          "text": [
            "False\n",
            "True\n",
            "True\n"
          ]
        }
      ]
    },
    {
      "cell_type": "code",
      "source": [
        "df.info()"
      ],
      "metadata": {
        "colab": {
          "base_uri": "https://localhost:8080/"
        },
        "id": "2KHA7tGWPzVO",
        "outputId": "718b0a7e-f140-47be-cd96-6848ffd725fe"
      },
      "execution_count": 4,
      "outputs": [
        {
          "output_type": "stream",
          "name": "stdout",
          "text": [
            "<class 'pandas.core.frame.DataFrame'>\n",
            "RangeIndex: 284807 entries, 0 to 284806\n",
            "Data columns (total 31 columns):\n",
            " #   Column  Non-Null Count   Dtype  \n",
            "---  ------  --------------   -----  \n",
            " 0   Time    284807 non-null  float64\n",
            " 1   V1      284807 non-null  float64\n",
            " 2   V2      284807 non-null  float64\n",
            " 3   V3      284807 non-null  float64\n",
            " 4   V4      284807 non-null  float64\n",
            " 5   V5      284807 non-null  float64\n",
            " 6   V6      284807 non-null  float64\n",
            " 7   V7      284807 non-null  float64\n",
            " 8   V8      284807 non-null  float64\n",
            " 9   V9      284807 non-null  float64\n",
            " 10  V10     284807 non-null  float64\n",
            " 11  V11     284807 non-null  float64\n",
            " 12  V12     284807 non-null  float64\n",
            " 13  V13     284807 non-null  float64\n",
            " 14  V14     284807 non-null  float64\n",
            " 15  V15     284807 non-null  float64\n",
            " 16  V16     284807 non-null  float64\n",
            " 17  V17     284807 non-null  float64\n",
            " 18  V18     284807 non-null  float64\n",
            " 19  V19     284807 non-null  float64\n",
            " 20  V20     284807 non-null  float64\n",
            " 21  V21     284807 non-null  float64\n",
            " 22  V22     284807 non-null  float64\n",
            " 23  V23     284807 non-null  float64\n",
            " 24  V24     284807 non-null  float64\n",
            " 25  V25     284807 non-null  float64\n",
            " 26  V26     284807 non-null  float64\n",
            " 27  V27     284807 non-null  float64\n",
            " 28  V28     284807 non-null  float64\n",
            " 29  Amount  284807 non-null  float64\n",
            " 30  Class   284807 non-null  int64  \n",
            "dtypes: float64(30), int64(1)\n",
            "memory usage: 67.4 MB\n"
          ]
        }
      ]
    },
    {
      "cell_type": "markdown",
      "source": [
        "This will replace all the NaN values in the DataFrame df with 0.0.\n",
        "\n",
        "The fillna() method takes the value argument, which specifies the value to use for filling the NaN values. In this case, we set it to 0.0. The inplace=True argument ensures that the changes are made to the original DataFrame df in place, rather than creating a new DataFrame.\n",
        "\n",
        "Note that replacing missing values with a constant value such as 0.0 is just one of several possible strategies for handling missing data. You may want to explore other strategies, such as imputation or deletion, depending on the nature of your data and the problem you are trying to solve."
      ],
      "metadata": {
        "id": "Az6oNv9PROw_"
      }
    },
    {
      "cell_type": "code",
      "source": [
        "df.fillna(value=0.0, inplace=True)"
      ],
      "metadata": {
        "id": "p-Ld_iqrROhc"
      },
      "execution_count": 6,
      "outputs": []
    },
    {
      "cell_type": "markdown",
      "source": [
        "This code imports the train_test_split function from the model_selection module of the Scikit-learn library. The purpose of this function is to split a dataset into training and testing subsets, which are used for model training and evaluation, respectively.\n",
        "\n",
        "The code then assumes that the dataset is stored in a Pandas DataFrame named df. It creates a new DataFrame x by dropping the Time and Class columns from df. The x DataFrame contains the features (input variables) for the model. The code also creates a Series y by selecting the Class column from df. The y Series contains the target variable for the model.\n",
        "\n",
        "The train_test_split function is then called with the following arguments:\n",
        "\n",
        "- x and y are the feature and target variables, respectively.\n",
        "test_size is set to 0.2, which means that 20% of the dataset will be used for testing, and 80% for training.\n",
        "- stratify is set to y, which means that the splitting is done in a way that preserves the proportion of the target variable in each subset. This is useful if the target variable is imbalanced, meaning that there are more examples of one class than the others.\n",
        "- random_state is set to 0, which means that the splitting is done in a reproducible way, so that the same random splitting will be applied each time the code is run.\n",
        "\n",
        "Finally, the function returns four objects: x_train, x_test, y_train, and y_test, which are the training and testing subsets of the feature and target variables, respectively. These subsets can be used for training and evaluating a machine learning model."
      ],
      "metadata": {
        "id": "UlqNgbM6QQWM"
      }
    },
    {
      "cell_type": "code",
      "source": [
        "from sklearn.model_selection import train_test_split\n",
        "\n",
        "x = df.drop(['Time', 'Class'], axis=1)\n",
        "y = df['Class']\n",
        "\n",
        "x_train, x_test, y_train, y_test = train_test_split(x, y, test_size=0.2, stratify=y, random_state=0)"
      ],
      "metadata": {
        "id": "jkev3zv9P3st"
      },
      "execution_count": 7,
      "outputs": []
    },
    {
      "cell_type": "markdown",
      "source": [
        "This code imports the LogisticRegression class from the linear_model module of the Scikit-learn library, and creates a new instance of this class called lr_model. The LogisticRegression class is used to implement logistic regression, which is a popular classification algorithm in machine learning.\n",
        "\n",
        "The LogisticRegression constructor takes several optional parameters, which are used to configure the behavior of the model. In this case, two parameters are used:\n",
        "\n",
        "- random_state: This parameter is used to ensure that the results of the model are reproducible across different runs. It sets the seed for the random number generator used by the model.\n",
        "- max_iter: This parameter is used to set the maximum number of iterations that the solver should run. The solver is used to optimize the model parameters to fit the training data. Setting a higher value for max_iter can increase the accuracy of the model, but it also increases the training time.\n",
        "\n",
        "After creating the lr_model instance, the code calls the fit() method of the model to train the model on the training data. The fit() method takes two arguments:\n",
        "\n",
        "- x_train: This is the feature matrix (input data) for the training set.\n",
        "- y_train: This is the target vector (output data) for the training set.\n",
        "\n",
        "During training, the logistic regression algorithm learns the relationship between the input features and the output target, and finds the optimal values of the model parameters to minimize the error between the predicted output and the actual output on the training set.\n",
        "\n",
        "Once the model is trained, you can use it to make predictions on new data using the predict() method of the model."
      ],
      "metadata": {
        "id": "0r_trC1mRZVu"
      }
    },
    {
      "cell_type": "code",
      "source": [
        "from sklearn.linear_model import LogisticRegression\n",
        "\n",
        "lr_model = LogisticRegression(random_state=0, max_iter=5000)\n",
        "lr_model.fit(x_train, y_train)"
      ],
      "metadata": {
        "colab": {
          "base_uri": "https://localhost:8080/"
        },
        "id": "Kob-Yuw4Qzir",
        "outputId": "0a9181f3-a9a6-44c2-e793-990fd5457f23"
      },
      "execution_count": 8,
      "outputs": [
        {
          "output_type": "execute_result",
          "data": {
            "text/plain": [
              "LogisticRegression(max_iter=5000, random_state=0)"
            ]
          },
          "metadata": {},
          "execution_count": 8
        }
      ]
    },
    {
      "cell_type": "markdown",
      "source": [
        "This code imports the ConfusionMatrixDisplay class from the sklearn.metrics module of the Scikit-learn library, and creates a new instance of this class called cmd. The ConfusionMatrixDisplay class is used to generate and display a confusion matrix, which is a table that summarizes the performance of a classification model.\n",
        "\n",
        "The from_estimator() method of the ConfusionMatrixDisplay class is then called to generate the confusion matrix for the logistic regression model (lr_model) on the test set (x_test and y_test). The from_estimator() method takes several arguments:\n",
        "\n",
        "- estimator: This is the trained machine learning model (lr_model in this case) that will be evaluated using the test set.\n",
        "- X: This is the feature matrix (input data) for the test set.\n",
        "- y_true: This is the target vector (output data) for the test set.\n",
        "display_labels: This is a list of labels to use for the rows and columns of the confusion matrix. In this case, the labels are set to ['Legitimate', 'Fraudulent'].\n",
        "- cmap: This parameter specifies the color map to use for the display. In this case, the color map is set to 'Blues'.\n",
        "- xticks_rotation: This parameter specifies the rotation angle of the x-axis tick labels. In this case, the tick labels are rotated vertically for better visibility.\n",
        "\n",
        "Once the confusion matrix is generated, the cmd instance can be displayed using the plot() method. For example, you can run:\n",
        "\n",
        "This will display the confusion matrix for the logistic regression model. The confusion matrix displays the number of true positives (TP), false positives (FP), true negatives (TN), and false negatives (FN) for the model on the test set. The TP and TN values represent the number of correct predictions, while the FP and FN values represent the number of incorrect predictions."
      ],
      "metadata": {
        "id": "3vmZoIxIR0Tp"
      }
    },
    {
      "cell_type": "code",
      "source": [
        "%matplotlib inline\n",
        "from sklearn.metrics import ConfusionMatrixDisplay as cmd\n",
        "\n",
        "labels = ['Legitimate', 'Fraudulent']\n",
        "cmd.from_estimator(lr_model, x_test, y_test, display_labels=labels,\n",
        "                   cmap='Blues', xticks_rotation='vertical')"
      ],
      "metadata": {
        "colab": {
          "base_uri": "https://localhost:8080/",
          "height": 341
        },
        "id": "-83D9KhjRZ1X",
        "outputId": "92c02500-25bb-4e17-faf1-405bd0c2d746"
      },
      "execution_count": 9,
      "outputs": [
        {
          "output_type": "execute_result",
          "data": {
            "text/plain": [
              "<sklearn.metrics._plot.confusion_matrix.ConfusionMatrixDisplay at 0x7f8f04f649a0>"
            ]
          },
          "metadata": {},
          "execution_count": 9
        },
        {
          "output_type": "display_data",
          "data": {
            "text/plain": [
              "<Figure size 432x288 with 2 Axes>"
            ],
            "image/png": "[encoded data removed]"
          },
          "metadata": {
            "needs_background": "light"
          }
        }
      ]
    },
    {
      "cell_type": "markdown",
      "source": [
        "This code imports the RandomForestClassifier class from the ensemble module of the Scikit-learn library, and creates a new instance of this class called rf_model. The RandomForestClassifier class is used to implement a random forest algorithm, which is an ensemble learning method for classification tasks.\n",
        "\n",
        "The RandomForestClassifier constructor takes several optional parameters, which are used to configure the behavior of the model. In this case, one parameter is used:\n",
        "\n",
        "- random_state: This parameter is used to ensure that the results of the model are reproducible across different runs. It sets the seed for the random number generator used by the model.\n",
        "\n",
        "After creating the rf_model instance, the code calls the fit() method of the model to train the model on the training data. The fit() method takes two arguments:\n",
        "\n",
        "- x_train: This is the feature matrix (input data) for the training set.\n",
        "- y_train: This is the target vector (output data) for the training set.\n",
        "\n",
        "During training, the random forest algorithm builds a collection of decision trees based on random subsets of the input features and data points. The algorithm then aggregates the output of these individual trees to produce a final prediction for a given input.\n",
        "\n",
        "Once the model is trained, the code generates a confusion matrix for the model using the from_estimator() method of the ConfusionMatrixDisplay class, which is similar to what was done for the logistic regression model. The from_estimator() method takes the same arguments as before, but this time it takes the trained random forest model (rf_model) as the first argument instead of the logistic regression model.\n",
        "\n",
        "After generating the confusion matrix using cmd.from_estimator(), the confusion matrix can be displayed using the plot() method of the cmd instance.\n",
        "\n",
        "Note that because the random forest algorithm is a more complex model than logistic regression, it may take longer to train and may require more resources to run. However, it can often achieve higher accuracy on complex classification tasks."
      ],
      "metadata": {
        "id": "IkecReFUSPh1"
      }
    },
    {
      "cell_type": "code",
      "source": [
        "from sklearn.ensemble import RandomForestClassifier\n",
        "\n",
        "rf_model = RandomForestClassifier(random_state=0)\n",
        "rf_model.fit(x_train, y_train)\n",
        "\n",
        "cmd.from_estimator(rf_model, x_test, y_test, display_labels=labels,\n",
        "                   cmap='Blues', xticks_rotation='vertical')"
      ],
      "metadata": {
        "colab": {
          "base_uri": "https://localhost:8080/",
          "height": 341
        },
        "id": "_TKYd3xgR3oH",
        "outputId": "4f619e94-4cbf-4414-f8a0-87a0650099e7"
      },
      "execution_count": 10,
      "outputs": [
        {
          "output_type": "execute_result",
          "data": {
            "text/plain": [
              "<sklearn.metrics._plot.confusion_matrix.ConfusionMatrixDisplay at 0x7f8f59b0faf0>"
            ]
          },
          "metadata": {},
          "execution_count": 10
        },
        {
          "output_type": "display_data",
          "data": {
            "text/plain": [
              "<Figure size 432x288 with 2 Axes>"
            ],
            "image/png": "[encoded data removed]"
          },
          "metadata": {
            "needs_background": "light"
          }
        }
      ]
    },
    {
      "cell_type": "markdown",
      "source": [
        "This code imports the GradientBoostingClassifier class from the ensemble module of the Scikit-learn library, and creates a new instance of this class called gbm_model. The GradientBoostingClassifier class is used to implement a gradient boosting algorithm, which is another ensemble learning method for classification tasks.\n",
        "\n",
        "The GradientBoostingClassifier constructor takes several optional parameters, which are used to configure the behavior of the model. In this case, one parameter is used:\n",
        "\n",
        "- random_state: This parameter is used to ensure that the results of the model are reproducible across different runs. It sets the seed for the random number generator used by the model.\n",
        "\n",
        "After creating the gbm_model instance, the code calls the fit() method of the model to train the model on the training data. The fit() method takes two arguments:\n",
        "\n",
        "- x_train: This is the feature matrix (input data) for the training set.\n",
        "- y_train: This is the target vector (output data) for the training set.\n",
        "\n",
        "During training, the gradient boosting algorithm builds an ensemble of decision trees sequentially, with each tree built to correct the errors of the previous tree. The algorithm uses gradient descent to minimize a loss function that measures the difference between the model's predictions and the actual targets.\n",
        "\n",
        "Once the model is trained, the code generates a confusion matrix for the model using the from_estimator() method of the ConfusionMatrixDisplay class, which is similar to what was done for the logistic regression and random forest models. The from_estimator() method takes the same arguments as before, but this time it takes the trained gradient boosting model (gbm_model) as the first argument instead of the logistic regression or random forest model.\n",
        "\n",
        "After generating the confusion matrix using cmd.from_estimator(), the confusion matrix can be displayed using the plot() method of the cmd instance.\n",
        "\n",
        "Note that because the gradient boosting algorithm is also a complex model, it may take longer to train and may require more resources to run. However, it can often achieve higher accuracy on complex classification tasks than simpler models like logistic regression."
      ],
      "metadata": {
        "id": "IHaB6qSqSrEd"
      }
    },
    {
      "cell_type": "code",
      "source": [
        "from sklearn.ensemble import GradientBoostingClassifier\n",
        "\n",
        "gbm_model = GradientBoostingClassifier(random_state=0)\n",
        "gbm_model.fit(x_train, y_train)\n",
        "\n",
        "cmd.from_estimator(gbm_model, x_test, y_test, display_labels=labels,\n",
        "                   cmap='Blues', xticks_rotation='vertical')"
      ],
      "metadata": {
        "colab": {
          "base_uri": "https://localhost:8080/",
          "height": 341
        },
        "id": "KMrXZ8YCSQMl",
        "outputId": "2a5c39c2-f5fc-4429-e4e2-bb71c8ae3a51"
      },
      "execution_count": 11,
      "outputs": [
        {
          "output_type": "execute_result",
          "data": {
            "text/plain": [
              "<sklearn.metrics._plot.confusion_matrix.ConfusionMatrixDisplay at 0x7f8f0521faf0>"
            ]
          },
          "metadata": {},
          "execution_count": 11
        },
        {
          "output_type": "display_data",
          "data": {
            "text/plain": [
              "<Figure size 432x288 with 2 Axes>"
            ],
            "image/png": "[encoded data removed]"
          },
          "metadata": {
            "needs_background": "light"
          }
        }
      ]
    },
    {
      "cell_type": "markdown",
      "source": [
        "This code computes several evaluation metrics for the random forest classifier that was trained and tested earlier.\n",
        "\n",
        "After training the random forest classifier rf_model and predicting the labels of the test set, the code uses the precision_score and recall_score functions from Scikit-learn to compute the precision and recall of the classifier. These are two commonly used evaluation metrics for binary classification tasks.\n",
        "\n",
        "- Precision measures the proportion of true positive predictions among all positive predictions, and is given by: TP / (TP + FP), where TP is the number of true positives (fraudulent transactions correctly predicted as fraudulent) and FP is the number of false positives (legitimate transactions incorrectly predicted as fraudulent). High precision indicates that the classifier produces few false positive predictions.\n",
        "- Recall (also known as sensitivity) measures the proportion of true positive predictions among all actual positive cases, and is given by: TP / (TP + FN), where FN is the number of false negatives (fraudulent transactions incorrectly predicted as legitimate). High recall indicates that the classifier produces few false negative predictions.\n",
        "\n",
        "The code also computes the specificity, which is the proportion of true negative predictions among all actual negative cases. Specifically, it uses the recall_score function with the pos_label=0 argument to compute the recall of the negative class (legitimate transactions) and interprets it as the specificity. The formula for specificity is: TN / (TN + FP), where TN is the number of true negatives (legitimate transactions correctly predicted as legitimate) and FP is the number of false positives.\n",
        "\n",
        "Finally, the code prints out the computed values of precision, recall, sensitivity, and specificity using f-strings to format the output."
      ],
      "metadata": {
        "id": "T6ENsMGbTDi5"
      }
    },
    {
      "cell_type": "code",
      "source": [
        "from sklearn.metrics import precision_score, recall_score\n",
        "\n",
        "y_pred = rf_model.predict(x_test)\n",
        "precision = precision_score(y_test, y_pred)\n",
        "recall = recall_score(y_test, y_pred)\n",
        "sensitivity = recall\n",
        "specificity = recall_score(y_test, y_pred, pos_label=0)\n",
        "\n",
        "print(f'Precision: {precision}')\n",
        "print(f'Recall: {recall}')\n",
        "print(f'Sensitivity: {sensitivity}')\n",
        "print(f'Specificity: {specificity}')"
      ],
      "metadata": {
        "colab": {
          "base_uri": "https://localhost:8080/"
        },
        "id": "7PNeVJbxSs52",
        "outputId": "6fdb52c6-d5f9-417b-fe4d-09896f1c935a"
      },
      "execution_count": 12,
      "outputs": [
        {
          "output_type": "stream",
          "name": "stdout",
          "text": [
            "Precision: 0.9466666666666667\n",
            "Recall: 0.7244897959183674\n",
            "Sensitivity: 0.7244897959183674\n",
            "Specificity: 0.9999296567248172\n"
          ]
        }
      ]
    }
  ]
}